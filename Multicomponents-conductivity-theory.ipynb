{
 "cells": [
  {
   "cell_type": "code",
   "execution_count": 15,
   "id": "07266790-2043-448f-9d32-b66a85b2d17a",
   "metadata": {},
   "outputs": [],
   "source": [
    "import pyomo.environ as pyo\n",
    "import numpy as np\n",
    "from matplotlib import pyplot as plt\n",
    "import math\n",
    "import scipy.stats as stats\n",
    "import pandas as pd"
   ]
  },
  {
   "cell_type": "code",
   "execution_count": 16,
   "id": "4254f1f5-5b67-41e1-a11a-6cf498b9b98a",
   "metadata": {},
   "outputs": [],
   "source": [
    "data = pd.read_csv(\"NaCl_CaCl2.csv\")\n",
    "NaCl_conc = data[\"NaCl conc\"]\n",
    "CaCl2_conc = data[\"CaCl2 conc\"]\n",
    "cond = data[\"Bulk cond\"]\n",
    "ndata = len(cond)\n",
    "\n",
    "number_density_NaCl = [NaCl_conc[i]*(6.022*10**23) for i in range(ndata)]\n",
    "number_density_CaCl2 = [CaCl2_conc[i]*(6.022*10**23) for i in range(ndata)]"
   ]
  },
  {
   "cell_type": "code",
   "execution_count": 17,
   "id": "b2e6a595-a748-4160-89c9-d039598c3f65",
   "metadata": {},
   "outputs": [],
   "source": [
    "# k_B = 1.381 * 10**(-23) * pyo.units.J / pyo.units.K\n",
    "# T = 298.15 * pyo.units.K\n",
    "# charge = 1.602 * 10**(-19) * pyo.units.C\n",
    "# D_Na = 1.334 * 10**(-9) * (pyo.units.m)**2 / pyo.units.s\n",
    "# D_Cl = 2.032 * 10**(-9) * (pyo.units.m)**2 / pyo.units.s\n",
    "# D_Ca = 0.792 * 10**(-9) * (pyo.units.m)**2 / pyo.units.s\n",
    "# E_field = 0.7 * pyo.units.V / pyo.units.m\n",
    "# z_Na = 1\n",
    "# z_Cl = -1\n",
    "# z_Ca = 2\n",
    "# epsilon = 78.4\n",
    "# epsilon_0 = 8.854 * 10**(-12) * (pyo.units.C)**2 / (pyo.units.N * (pyo.units.m)**2)\n",
    "# sigma_Na = 100 * 10**(-12) * pyo.units.m\n",
    "# sigma_Cl = 190 * 10**(-12) * pyo.units.m\n",
    "# sigma_Ca = 140 * 10**(-12) * pyo.units.m"
   ]
  },
  {
   "cell_type": "code",
   "execution_count": 20,
   "id": "d70714df-575e-4f5a-b51f-a6104c59f6c7",
   "metadata": {},
   "outputs": [],
   "source": [
    "k_B = 1.381 * 10**(-23)\n",
    "T = 298.15\n",
    "charge = 1.602 * 10**(-19)\n",
    "D_Na = 1.334 * 10**(-9)\n",
    "D_Cl = 2.032 * 10**(-9)\n",
    "D_Ca = 0.792 * 10**(-9)\n",
    "E_field = 0.7\n",
    "z_Na = 1\n",
    "z_Cl = -1\n",
    "z_Ca = 2\n",
    "epsilon = 78.4\n",
    "epsilon_0 = 8.854 * 10**(-12)\n",
    "sigma_Na = 100 * 10**(-12)\n",
    "sigma_Cl = 190 * 10**(-12)\n",
    "sigma_Ca = 140 * 10**(-12)"
   ]
  },
  {
   "cell_type": "code",
   "execution_count": 28,
   "id": "b790df10-7a1d-458d-8fb6-ac8bf861bfeb",
   "metadata": {},
   "outputs": [
    {
     "name": "stderr",
     "output_type": "stream",
     "text": [
      "C:\\Users\\lilon\\AppData\\Local\\Temp\\ipykernel_27768\\1697994160.py:34: RuntimeWarning: invalid value encountered in scalar divide\n",
      "  mew_i = number_density[i]*(valency[i]*charge)**2/mew_deno\n"
     ]
    }
   ],
   "source": [
    "components = [\"Na\", \"Ca\", \"Cl\"]\n",
    "valency = [z_Na, z_Ca, z_Cl]\n",
    "diff_coeff = [D_Na, D_Ca, D_Cl]\n",
    "number_density_Na = number_density_NaCl\n",
    "number_density_Ca = number_density_CaCl2\n",
    "number_density_Cl = number_density_NaCl + 2*number_density_CaCl2\n",
    "# number_density_all = [number_density_Na, number_density_Ca, number_density_Cl]\n",
    "\n",
    "for l in range(ndata):\n",
    "    number_density = [number_density_Na[l], number_density_Ca[l], number_density_Cl[l]]\n",
    "    omega = []\n",
    "    mew = []\n",
    "    for i in range(len(components)):\n",
    "        # evaluating the velocity produced by the net electric force on species i\n",
    "        vel = valency[i]*charge*E_field*diff_coeff[i]/(k_B*T)\n",
    "\n",
    "        # evaluating relaxation correction\n",
    "        ## evaluating omega\n",
    "        omega_i = diff_coeff[i]/(k_B*T)\n",
    "        omega.append(omega_i)\n",
    "\n",
    "        ## evaluating kappa\n",
    "        kappa_sq = 0.0\n",
    "        for j in range(len(components)):\n",
    "            kappa_j = number_density[j]*(valency[j]*charge)**2/(epsilon*epsilon_0*k_B*T)\n",
    "            kappa_sq += kappa_j\n",
    "        kappa = math.sqrt(kappa_sq)\n",
    "\n",
    "        ## evaluating mew, the relative ionic strength\n",
    "        mew_deno = 0.0\n",
    "        for s in range(len(components)):\n",
    "            mew_deno_s = number_density[s]*(valency[s]*charge)**2\n",
    "            mew_deno += mew_deno_s\n",
    "        mew_i = number_density[i]*(valency[i]*charge)**2/mew_deno\n",
    "        mew.append(mew_i)\n",
    "\n",
    "    # evaluating the mean mobility, omega_bar\n",
    "    omega_bar = 0.0\n",
    "    for r in range(len(components)):\n",
    "        omega_bar_r = mew[r]*omega[r]\n",
    "        omega_bar += omega_bar_r\n",
    "        \n",
    "            \n",
    "            "
   ]
  }
 ],
 "metadata": {
  "kernelspec": {
   "display_name": "Python 3 (ipykernel)",
   "language": "python",
   "name": "python3"
  },
  "language_info": {
   "codemirror_mode": {
    "name": "ipython",
    "version": 3
   },
   "file_extension": ".py",
   "mimetype": "text/x-python",
   "name": "python",
   "nbconvert_exporter": "python",
   "pygments_lexer": "ipython3",
   "version": "3.10.13"
  }
 },
 "nbformat": 4,
 "nbformat_minor": 5
}
